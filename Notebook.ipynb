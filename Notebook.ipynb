{
 "cells": [
  {
   "cell_type": "markdown",
   "metadata": {},
   "source": [
    "# Using Python for GIS and Remote Sensing Operations"
   ]
  },
  {
   "cell_type": "markdown",
   "metadata": {},
   "source": [
    "### Common Operation\n",
    "1) Working with Coordinate Systems - Geocoding<br>\n",
    "2) Web-based Geo data visulization<br>\n",
    "3) Working with Vector and Raster"
   ]
  },
  {
   "cell_type": "markdown",
   "metadata": {
    "collapsed": true
   },
   "source": [
    "## 1) Working with Coordinate Systems - Geocoding"
   ]
  },
  {
   "cell_type": "markdown",
   "metadata": {
    "collapsed": true
   },
   "source": [
    "In Mathematics, a coordinate system is a system of numbers (usually called the x-coordinate and the y-coordinate) used to uniquely determine the position of a points, lines and polygons on a plane (graph/grid paper).\n",
    "<img src='https://4.bp.blogspot.com/-N8YT7c2Lpl4/WYpiWFNuCXI/AAAAAAAABzc/t5RDhEkHZQ8pX0KnUrWWyix8Zo2hzHdZQCLcBGAs/s1600/Cartesian-coordinate-system.svg.png' />\n",
    "A coordinate system defines the location of a point on a planar or spherical surface\n",
    "<br>\n",
    "<u>A Coordinate system</u> in GIS and Remote Sensing enables every location on Earth to be specified by a set of numbers. There are two types of coordinate systems used to represent Geospatial data namely;- <br>\n",
    "<b>Geographical Coordinate Systems</b> (when the earth is not flat e.g: World Geodetic System 1984 (WGS84). Units are often in Degrees - Longitude/Latitude) and <b>Projected Coordinate Systems</b> (when the earth is flat e.g: Universal Transverse Mercator (UTM) Zone 31. Units are often in Meters - x/y) (<a href='https://en.wikipedia.org/wiki/Geographic_coordinate_system'>source</a>).\n",
    "\n",
    "<img src='https://2.bp.blogspot.com/-ntdr8jHaDRg/WYSzeZO7_YI/AAAAAAAAByI/y8eGAyZHiHsa1f-YnLs1kFy_aaD2Ib9pQCLcBGAs/s1600/polarcoords.png' />\n",
    "<br>\n",
    "<br>\n",
    "\n",
    "<u>Geocoding:</u> is the process of converting addresses (like a street address) into geographic coordinates (like latitude and longitude), which you can use to place markers on a map, or position the map. <u>Reverse geocoding</u> is the process of converting geographic coordinates into a human-readable address (<a href='https://developers.google.com/maps/documentation/geocoding/start'>source</a>)"
   ]
  },
  {
   "cell_type": "markdown",
   "metadata": {},
   "source": [
    "<img src='https://2.bp.blogspot.com/-hu_tOXU3bJs/WYl0_BARV3I/AAAAAAAABzM/terg6h-YC3k1K0ZAUQraFDKXgOL_Zt39ACLcBGAs/s1600/3-elders.jpg' />"
   ]
  },
  {
   "cell_type": "markdown",
   "metadata": {
    "collapsed": true
   },
   "source": [
    "### Geocoding Places of Tourist Attractions in Lagos\n",
    "\n",
    "Geopy module makes it easy for Python developers to locate the coordinates (Longitude/Latitude) of addresses, cities, countries, and landmarks across the globe using third-party geocoders and other data sources such as: <br>~ <b>OpenStreetMap Nominatim:</b> https://.nominatim.openstreetmap.org<br>~ <b>ESRI ArcGIS:</b>  https://developers.arcgis.com/rest/geocode/api-reference/overview-world-geocoding-service.htm<br>~ <b>Google Geocoding API (V3):</b> https://.maps.googleapis.com<br>~ Baidu Maps<br>~ Bing Maps API<br>~ Yahoo! PlaceFinder<br>~ Yandex<br>~ IGN France<br>~ GeoNames<br>~ NaviData<br>~ OpenMapQuest<br>~ What3Words<br>~ OpenCage<br>~ SmartyStreets<br>~ geocoder.us <br>~ GeocodeFarm.\n",
    "\n",
    "<br>\n",
    "Note that some of the sources above requires you register with them to have api-key.\n",
    "\n",
    "Source: https://pypi.python.org/pypi/geopy"
   ]
  },
  {
   "cell_type": "markdown",
   "metadata": {},
   "source": [
    "#### Import Libraries"
   ]
  },
  {
   "cell_type": "code",
   "execution_count": 1,
   "metadata": {
    "collapsed": true
   },
   "outputs": [],
   "source": [
    "import folium\n",
    "import shapefile # pip install pyshp\n",
    "import pandas as pd\n",
    "from pyproj import Proj, transform\n",
    "from geopy.geocoders import Nominatim, ArcGIS, GoogleV3"
   ]
  },
  {
   "cell_type": "code",
   "execution_count": 83,
   "metadata": {
    "collapsed": true
   },
   "outputs": [],
   "source": [
    "# Loads the CSV into pandas dataframe\n",
    "df = pd.read_csv('Data\\\\Tourist Attractions in Lagos.csv',  encoding='latin1')"
   ]
  },
  {
   "cell_type": "code",
   "execution_count": 4,
   "metadata": {
    "collapsed": false,
    "scrolled": true
   },
   "outputs": [
    {
     "name": "stdout",
     "output_type": "stream",
     "text": [
      "Chamber of Commerce and Industry Conference Center, Lagos None\n",
      "Bar Beach Towers, Lagos None\n",
      "Slave Trade House, Lagos None\n",
      "Conservation Centre, Lagos (6.4428238, 3.5351702)\n",
      "Whispering Palms Resort, Lagos None\n",
      "National Theatre, Lagos (47.4716412, 19.0704276897326)\n",
      "Coconut Beach, Lagos (51.94986285, 7.60407079384229)\n",
      "The Civic Centre, Lagos (6.43985615, 3.43032342465543)\n",
      "Third Mainland Bridge, Lagos (6.5061582, 3.4036881)\n",
      "Badagry Slave Route, Lagos None\n",
      "Freedom Park, Lagos (6.4488245, 3.39653866354212)\n",
      "Iga Idungaran (Oba's Palace), Lagos None\n",
      "National Museum, Lagos (52.239433, 21.0361807911491)\n",
      "Tinubu Square, Lagos (6.5172639, 3.3666241)\n",
      "Lekki Conservation center, Lagos (6.4428238, 3.5351702)\n",
      "Tafawa Balewa Square, Lagos (6.4487977, 3.4015766)\n",
      "Kalakuta Republic Museum, Lagos None\n"
     ]
    }
   ],
   "source": [
    "# Loop over the places column names and get there long/lat values (Geocoding)\n",
    "for name in df['Places']:\n",
    "    try:\n",
    "        nom = Nominatim(timeout=10) #### Use GeoPy OpenStreetMap Nominatim API:\n",
    "#         nom = ArcGIS(timeout=10) #### Use GeoPy ESRI ArcGIS API:\n",
    "#         nom = GoogleV3(timeout=10) #### Use GeoPy Google Geocoding API (V3) API: \n",
    "        n = nom.geocode(name)\n",
    "        print(name, (n.latitude, n.longitude))\n",
    "        \n",
    "#         print(n.address)\n",
    "    except AttributeError:\n",
    "        print (name, 'None')"
   ]
  },
  {
   "cell_type": "markdown",
   "metadata": {},
   "source": [
    "From the geocoding results of the three (3) APIs above, \"Google Geocoding API (V3)\" gave a better result. So, we use it for further operation.<br>\n",
    "~ Fewer missing coordinates<br>\n",
    "~ 90% coodinates value falls within Lagos (Lat: 6.00 - 7.00 and Long: 2.50 - 4.50)\n",
    "\n",
    "<img src='https://1.bp.blogspot.com/-lDyOD-AAR8Y/WbWTs3WJhjI/AAAAAAAAB0s/vW2nIDX3SnATwoihPekukuqWclFqMYzNwCLcBGAs/s640/Lagos_Coordinate_Bound.PNG' />"
   ]
  },
  {
   "cell_type": "markdown",
   "metadata": {},
   "source": [
    "#### Load geocoded result into a dataframe/CSV"
   ]
  },
  {
   "cell_type": "code",
   "execution_count": 84,
   "metadata": {
    "collapsed": false
   },
   "outputs": [
    {
     "data": {
      "text/html": [
       "<div>\n",
       "<table border=\"1\" class=\"dataframe\">\n",
       "  <thead>\n",
       "    <tr style=\"text-align: right;\">\n",
       "      <th></th>\n",
       "      <th>Places</th>\n",
       "      <th>Google-Latitude</th>\n",
       "      <th>Google-Longitude</th>\n",
       "      <th>ArcGIS-Latitude</th>\n",
       "      <th>ArcGIS-Longitude</th>\n",
       "      <th>OpenStreetMap-Latitude</th>\n",
       "      <th>OpenStreetMap-Longitude</th>\n",
       "    </tr>\n",
       "  </thead>\n",
       "  <tbody>\n",
       "    <tr>\n",
       "      <th>0</th>\n",
       "      <td>Bar Beach Towers, Lagos</td>\n",
       "      <td>6.42368</td>\n",
       "      <td>3.41415</td>\n",
       "      <td>6.423480</td>\n",
       "      <td>3.413810</td>\n",
       "      <td>None</td>\n",
       "      <td>None</td>\n",
       "    </tr>\n",
       "    <tr>\n",
       "      <th>1</th>\n",
       "      <td>Slave Trade House, Lagos</td>\n",
       "      <td>None</td>\n",
       "      <td>None</td>\n",
       "      <td>36.363280</td>\n",
       "      <td>-81.725480</td>\n",
       "      <td>None</td>\n",
       "      <td>None</td>\n",
       "    </tr>\n",
       "    <tr>\n",
       "      <th>2</th>\n",
       "      <td>Conservation Centre, Lagos</td>\n",
       "      <td>6.4361</td>\n",
       "      <td>3.53559</td>\n",
       "      <td>-41.289860</td>\n",
       "      <td>174.775230</td>\n",
       "      <td>6.44282</td>\n",
       "      <td>3.53517</td>\n",
       "    </tr>\n",
       "    <tr>\n",
       "      <th>3</th>\n",
       "      <td>Whispering Palms Resort, Lagos</td>\n",
       "      <td>6.41571</td>\n",
       "      <td>3.04479</td>\n",
       "      <td>6.417360</td>\n",
       "      <td>3.043990</td>\n",
       "      <td>None</td>\n",
       "      <td>None</td>\n",
       "    </tr>\n",
       "    <tr>\n",
       "      <th>4</th>\n",
       "      <td>National Theatre, Lagos</td>\n",
       "      <td>6.47644</td>\n",
       "      <td>3.36935</td>\n",
       "      <td>6.485490</td>\n",
       "      <td>3.364810</td>\n",
       "      <td>47.4716</td>\n",
       "      <td>19.0704</td>\n",
       "    </tr>\n",
       "    <tr>\n",
       "      <th>5</th>\n",
       "      <td>Coconut Beach, Lagos</td>\n",
       "      <td>6.65182</td>\n",
       "      <td>3.25978</td>\n",
       "      <td>26.399130</td>\n",
       "      <td>-81.838070</td>\n",
       "      <td>51.9499</td>\n",
       "      <td>7.60407</td>\n",
       "    </tr>\n",
       "    <tr>\n",
       "      <th>6</th>\n",
       "      <td>The Civic Centre, Lagos</td>\n",
       "      <td>6.43988</td>\n",
       "      <td>3.43065</td>\n",
       "      <td>6.439220</td>\n",
       "      <td>3.431100</td>\n",
       "      <td>6.43986</td>\n",
       "      <td>3.43032</td>\n",
       "    </tr>\n",
       "    <tr>\n",
       "      <th>7</th>\n",
       "      <td>Third Mainland Bridge, Lagos</td>\n",
       "      <td>6.50245</td>\n",
       "      <td>3.40251</td>\n",
       "      <td>6.592550</td>\n",
       "      <td>3.383626</td>\n",
       "      <td>6.50616</td>\n",
       "      <td>3.40369</td>\n",
       "    </tr>\n",
       "    <tr>\n",
       "      <th>8</th>\n",
       "      <td>Badagry Slave Route, Lagos</td>\n",
       "      <td>6.40031</td>\n",
       "      <td>2.87547</td>\n",
       "      <td>6.411950</td>\n",
       "      <td>2.883340</td>\n",
       "      <td>None</td>\n",
       "      <td>None</td>\n",
       "    </tr>\n",
       "    <tr>\n",
       "      <th>9</th>\n",
       "      <td>Freedom Park, Lagos</td>\n",
       "      <td>6.4489</td>\n",
       "      <td>3.39648</td>\n",
       "      <td>6.454747</td>\n",
       "      <td>3.338571</td>\n",
       "      <td>6.44882</td>\n",
       "      <td>3.39654</td>\n",
       "    </tr>\n",
       "    <tr>\n",
       "      <th>10</th>\n",
       "      <td>Iga Idungaran (Oba's Palace), Lagos</td>\n",
       "      <td>None</td>\n",
       "      <td>None</td>\n",
       "      <td>6.628580</td>\n",
       "      <td>3.986110</td>\n",
       "      <td>None</td>\n",
       "      <td>None</td>\n",
       "    </tr>\n",
       "    <tr>\n",
       "      <th>11</th>\n",
       "      <td>National Museum, Lagos</td>\n",
       "      <td>6.44407</td>\n",
       "      <td>3.40329</td>\n",
       "      <td>17.967100</td>\n",
       "      <td>102.607320</td>\n",
       "      <td>52.2465</td>\n",
       "      <td>21.0357</td>\n",
       "    </tr>\n",
       "    <tr>\n",
       "      <th>12</th>\n",
       "      <td>Tinubu Square, Lagos</td>\n",
       "      <td>6.45367</td>\n",
       "      <td>3.38996</td>\n",
       "      <td>6.453690</td>\n",
       "      <td>3.389490</td>\n",
       "      <td>6.51726</td>\n",
       "      <td>3.36662</td>\n",
       "    </tr>\n",
       "    <tr>\n",
       "      <th>13</th>\n",
       "      <td>Lekki Conservation center, Lagos</td>\n",
       "      <td>6.4361</td>\n",
       "      <td>3.53559</td>\n",
       "      <td>31.796160</td>\n",
       "      <td>-94.179700</td>\n",
       "      <td>6.44282</td>\n",
       "      <td>3.53517</td>\n",
       "    </tr>\n",
       "    <tr>\n",
       "      <th>14</th>\n",
       "      <td>Tafawa Balewa Square, Lagos</td>\n",
       "      <td>6.44887</td>\n",
       "      <td>3.40107</td>\n",
       "      <td>6.445760</td>\n",
       "      <td>3.400990</td>\n",
       "      <td>6.4488</td>\n",
       "      <td>3.40158</td>\n",
       "    </tr>\n",
       "    <tr>\n",
       "      <th>15</th>\n",
       "      <td>Kalakuta Republic Museum, Lagos</td>\n",
       "      <td>6.6029</td>\n",
       "      <td>3.34856</td>\n",
       "      <td>6.497450</td>\n",
       "      <td>3.114530</td>\n",
       "      <td>None</td>\n",
       "      <td>None</td>\n",
       "    </tr>\n",
       "  </tbody>\n",
       "</table>\n",
       "</div>"
      ],
      "text/plain": [
       "                                 Places Google-Latitude Google-Longitude  \\\n",
       "0               Bar Beach Towers, Lagos         6.42368          3.41415   \n",
       "1              Slave Trade House, Lagos            None             None   \n",
       "2            Conservation Centre, Lagos          6.4361          3.53559   \n",
       "3        Whispering Palms Resort, Lagos         6.41571          3.04479   \n",
       "4               National Theatre, Lagos         6.47644          3.36935   \n",
       "5                  Coconut Beach, Lagos         6.65182          3.25978   \n",
       "6               The Civic Centre, Lagos         6.43988          3.43065   \n",
       "7          Third Mainland Bridge, Lagos         6.50245          3.40251   \n",
       "8            Badagry Slave Route, Lagos         6.40031          2.87547   \n",
       "9                   Freedom Park, Lagos          6.4489          3.39648   \n",
       "10  Iga Idungaran (Oba's Palace), Lagos            None             None   \n",
       "11               National Museum, Lagos         6.44407          3.40329   \n",
       "12                 Tinubu Square, Lagos         6.45367          3.38996   \n",
       "13     Lekki Conservation center, Lagos          6.4361          3.53559   \n",
       "14          Tafawa Balewa Square, Lagos         6.44887          3.40107   \n",
       "15      Kalakuta Republic Museum, Lagos          6.6029          3.34856   \n",
       "\n",
       "    ArcGIS-Latitude  ArcGIS-Longitude OpenStreetMap-Latitude  \\\n",
       "0          6.423480          3.413810                   None   \n",
       "1         36.363280        -81.725480                   None   \n",
       "2        -41.289860        174.775230                6.44282   \n",
       "3          6.417360          3.043990                   None   \n",
       "4          6.485490          3.364810                47.4716   \n",
       "5         26.399130        -81.838070                51.9499   \n",
       "6          6.439220          3.431100                6.43986   \n",
       "7          6.592550          3.383626                6.50616   \n",
       "8          6.411950          2.883340                   None   \n",
       "9          6.454747          3.338571                6.44882   \n",
       "10         6.628580          3.986110                   None   \n",
       "11        17.967100        102.607320                52.2465   \n",
       "12         6.453690          3.389490                6.51726   \n",
       "13        31.796160        -94.179700                6.44282   \n",
       "14         6.445760          3.400990                 6.4488   \n",
       "15         6.497450          3.114530                   None   \n",
       "\n",
       "   OpenStreetMap-Longitude  \n",
       "0                     None  \n",
       "1                     None  \n",
       "2                  3.53517  \n",
       "3                     None  \n",
       "4                  19.0704  \n",
       "5                  7.60407  \n",
       "6                  3.43032  \n",
       "7                  3.40369  \n",
       "8                     None  \n",
       "9                  3.39654  \n",
       "10                    None  \n",
       "11                 21.0357  \n",
       "12                 3.36662  \n",
       "13                 3.53517  \n",
       "14                 3.40158  \n",
       "15                    None  "
      ]
     },
     "execution_count": 84,
     "metadata": {},
     "output_type": "execute_result"
    }
   ],
   "source": [
    "lat_long_list1 = [] # an empty list to hold lat/long for GoogleV3\n",
    "lat_long_list2 = [] # an empty list to hold lat/long for ArcGIS API\n",
    "lat_long_list3 = [] # an empty list to hold lat/long for OpenStreetMap Nominatim\n",
    "\n",
    "# Loop over the places column names and get there long/lat values (Geocoding)\n",
    "for name in df['Places']:\n",
    "#         =========== GoogleV3 API ============    \n",
    "    try:\n",
    "        nom1 = GoogleV3(timeout=10)\n",
    "        n1 = nom1.geocode(name)\n",
    "        lat_long_list1.append((n1.latitude, n1.longitude))\n",
    "\n",
    "    except AttributeError:\n",
    "        lat_long_list1.append(('None', 'None'))\n",
    "\n",
    "        \n",
    "#         =========== ArcGIS API ============     \n",
    "    try:\n",
    "        nom2 = ArcGIS(timeout=10)\n",
    "        n2 = nom2.geocode(name)\n",
    "        lat_long_list2.append((n2.latitude, n2.longitude))\n",
    "\n",
    "    except AttributeError:\n",
    "        lat_long_list2.append(('None', 'None'))\n",
    "\n",
    "        \n",
    "#         =========== OpenStreetMap Nominatim ============\n",
    "    try:\n",
    "        nom3 = Nominatim(timeout=10)\n",
    "        n3 = nom3.geocode(name)\n",
    "        lat_long_list3.append((n3.latitude, n3.longitude))\n",
    "\n",
    "    except AttributeError:\n",
    "        lat_long_list3.append(('None', 'None'))\n",
    "\n",
    "        \n",
    "# convert the \"lat_long_list\" to dataframe .....\n",
    "lat_long_df1 = pd.DataFrame(lat_long_list1, columns=['Google-Latitude', 'Google-Longitude'])\n",
    "lat_long_df2 = pd.DataFrame(lat_long_list2, columns=['ArcGIS-Latitude', 'ArcGIS-Longitude'])\n",
    "lat_long_df3 = pd.DataFrame(lat_long_list3, columns=['OpenStreetMap-Latitude', 'OpenStreetMap-Longitude'])\n",
    "\n",
    "\n",
    "# add 'Latitude' and 'Longitude' columns above to the places dataframe\n",
    "df['Google-Latitude'], df['Google-Longitude'] = lat_long_df1['Google-Latitude'], lat_long_df1['Google-Longitude']\n",
    "df['ArcGIS-Latitude'], df['ArcGIS-Longitude'] = lat_long_df2['ArcGIS-Latitude'], lat_long_df2['ArcGIS-Longitude']\n",
    "df['OpenStreetMap-Latitude'], df['OpenStreetMap-Longitude'] = lat_long_df3['OpenStreetMap-Latitude'], lat_long_df3['OpenStreetMap-Longitude']\n",
    "\n",
    "\n",
    "# save to CSV\n",
    "df.to_csv(\"Tourist_Attractions_in_Lagos_with_LatLong.csv\", index=None)\n",
    "\n",
    "df"
   ]
  },
  {
   "cell_type": "markdown",
   "metadata": {},
   "source": [
    "#### Transform \"Latitude/Longitude\" to \"X/Y\"\n",
    "Assuming we care about calculating linear distances between the places, then we have to transform the \"Latitude/Longitude\" (in Geographical Coordinate Systems) to \"X/Y\" (in Projected Coordinate Systems).\n",
    "<br><br>\n",
    "\n",
    "We know that \"Google Geocoding API (V3) API\" uses WGS84 Geographical Coordinate Systems, so we need to convert to \"Universal Transverse Mercator (UTM) Zone 31\" where Lagos state is located.\n",
    "<br><br>\n",
    "\n",
    "You can look up the European Petroleum Survey Group (EPSG) code from any traditional GIS tool or online at: http://www.epsg.org/ or https://epsg.io"
   ]
  },
  {
   "cell_type": "code",
   "execution_count": 6,
   "metadata": {
    "collapsed": false
   },
   "outputs": [
    {
     "data": {
      "text/html": [
       "<div>\n",
       "<table border=\"1\" class=\"dataframe\">\n",
       "  <thead>\n",
       "    <tr style=\"text-align: right;\">\n",
       "      <th></th>\n",
       "      <th>Places</th>\n",
       "      <th>Google-Latitude</th>\n",
       "      <th>Google-Longitude</th>\n",
       "      <th>ArcGIS-Latitude</th>\n",
       "      <th>ArcGIS-Longitude</th>\n",
       "      <th>OpenStreetMap-Latitude</th>\n",
       "      <th>OpenStreetMap-Longitude</th>\n",
       "      <th>X</th>\n",
       "      <th>Y</th>\n",
       "    </tr>\n",
       "  </thead>\n",
       "  <tbody>\n",
       "    <tr>\n",
       "      <th>0</th>\n",
       "      <td>Chamber of Commerce and Industry Conference Ce...</td>\n",
       "      <td>6.62535</td>\n",
       "      <td>3.36305</td>\n",
       "      <td>41.328260</td>\n",
       "      <td>19.815140</td>\n",
       "      <td>None</td>\n",
       "      <td>None</td>\n",
       "      <td>540130</td>\n",
       "      <td>732348</td>\n",
       "    </tr>\n",
       "    <tr>\n",
       "      <th>1</th>\n",
       "      <td>Bar Beach Towers, Lagos</td>\n",
       "      <td>6.42368</td>\n",
       "      <td>3.41415</td>\n",
       "      <td>6.423480</td>\n",
       "      <td>3.413810</td>\n",
       "      <td>None</td>\n",
       "      <td>None</td>\n",
       "      <td>545798</td>\n",
       "      <td>710058</td>\n",
       "    </tr>\n",
       "    <tr>\n",
       "      <th>2</th>\n",
       "      <td>Slave Trade House, Lagos</td>\n",
       "      <td>None</td>\n",
       "      <td>None</td>\n",
       "      <td>36.363280</td>\n",
       "      <td>-81.725480</td>\n",
       "      <td>None</td>\n",
       "      <td>None</td>\n",
       "      <td>None</td>\n",
       "      <td>None</td>\n",
       "    </tr>\n",
       "    <tr>\n",
       "      <th>3</th>\n",
       "      <td>Conservation Centre, Lagos</td>\n",
       "      <td>6.4361</td>\n",
       "      <td>3.53559</td>\n",
       "      <td>-41.289860</td>\n",
       "      <td>174.775230</td>\n",
       "      <td>6.44282</td>\n",
       "      <td>3.53517</td>\n",
       "      <td>559225</td>\n",
       "      <td>711443</td>\n",
       "    </tr>\n",
       "    <tr>\n",
       "      <th>4</th>\n",
       "      <td>Whispering Palms Resort, Lagos</td>\n",
       "      <td>6.41571</td>\n",
       "      <td>3.04479</td>\n",
       "      <td>6.417360</td>\n",
       "      <td>3.043990</td>\n",
       "      <td>None</td>\n",
       "      <td>None</td>\n",
       "      <td>504953</td>\n",
       "      <td>709159</td>\n",
       "    </tr>\n",
       "    <tr>\n",
       "      <th>5</th>\n",
       "      <td>National Theatre, Lagos</td>\n",
       "      <td>6.47644</td>\n",
       "      <td>3.36935</td>\n",
       "      <td>6.485490</td>\n",
       "      <td>3.364810</td>\n",
       "      <td>47.4716</td>\n",
       "      <td>19.0704</td>\n",
       "      <td>540839</td>\n",
       "      <td>715887</td>\n",
       "    </tr>\n",
       "    <tr>\n",
       "      <th>6</th>\n",
       "      <td>Coconut Beach, Lagos</td>\n",
       "      <td>6.65182</td>\n",
       "      <td>3.25978</td>\n",
       "      <td>26.399130</td>\n",
       "      <td>-81.838070</td>\n",
       "      <td>51.9499</td>\n",
       "      <td>7.60407</td>\n",
       "      <td>528714</td>\n",
       "      <td>735266</td>\n",
       "    </tr>\n",
       "    <tr>\n",
       "      <th>7</th>\n",
       "      <td>The Civic Centre, Lagos</td>\n",
       "      <td>6.43988</td>\n",
       "      <td>3.43065</td>\n",
       "      <td>6.439220</td>\n",
       "      <td>3.431100</td>\n",
       "      <td>6.43986</td>\n",
       "      <td>3.43032</td>\n",
       "      <td>547621</td>\n",
       "      <td>711850</td>\n",
       "    </tr>\n",
       "    <tr>\n",
       "      <th>8</th>\n",
       "      <td>Third Mainland Bridge, Lagos</td>\n",
       "      <td>6.50245</td>\n",
       "      <td>3.40251</td>\n",
       "      <td>6.592550</td>\n",
       "      <td>3.383626</td>\n",
       "      <td>6.50616</td>\n",
       "      <td>3.40369</td>\n",
       "      <td>544504</td>\n",
       "      <td>718765</td>\n",
       "    </tr>\n",
       "    <tr>\n",
       "      <th>9</th>\n",
       "      <td>Badagry Slave Route, Lagos</td>\n",
       "      <td>6.40031</td>\n",
       "      <td>2.87547</td>\n",
       "      <td>6.411950</td>\n",
       "      <td>2.883340</td>\n",
       "      <td>None</td>\n",
       "      <td>None</td>\n",
       "      <td>486228</td>\n",
       "      <td>707458</td>\n",
       "    </tr>\n",
       "    <tr>\n",
       "      <th>10</th>\n",
       "      <td>Freedom Park, Lagos</td>\n",
       "      <td>6.4489</td>\n",
       "      <td>3.39648</td>\n",
       "      <td>6.454747</td>\n",
       "      <td>3.338571</td>\n",
       "      <td>6.44882</td>\n",
       "      <td>3.39654</td>\n",
       "      <td>543841</td>\n",
       "      <td>712845</td>\n",
       "    </tr>\n",
       "    <tr>\n",
       "      <th>11</th>\n",
       "      <td>Iga Idungaran (Oba's Palace), Lagos</td>\n",
       "      <td>None</td>\n",
       "      <td>None</td>\n",
       "      <td>6.628580</td>\n",
       "      <td>3.986110</td>\n",
       "      <td>None</td>\n",
       "      <td>None</td>\n",
       "      <td>None</td>\n",
       "      <td>None</td>\n",
       "    </tr>\n",
       "    <tr>\n",
       "      <th>12</th>\n",
       "      <td>National Museum, Lagos</td>\n",
       "      <td>6.44407</td>\n",
       "      <td>3.40329</td>\n",
       "      <td>17.967100</td>\n",
       "      <td>102.607320</td>\n",
       "      <td>52.2394</td>\n",
       "      <td>21.0362</td>\n",
       "      <td>544595</td>\n",
       "      <td>712311</td>\n",
       "    </tr>\n",
       "    <tr>\n",
       "      <th>13</th>\n",
       "      <td>Tinubu Square, Lagos</td>\n",
       "      <td>6.45367</td>\n",
       "      <td>3.38996</td>\n",
       "      <td>6.453690</td>\n",
       "      <td>3.389490</td>\n",
       "      <td>6.51726</td>\n",
       "      <td>3.36662</td>\n",
       "      <td>543120</td>\n",
       "      <td>713371</td>\n",
       "    </tr>\n",
       "    <tr>\n",
       "      <th>14</th>\n",
       "      <td>Lekki Conservation center, Lagos</td>\n",
       "      <td>6.4361</td>\n",
       "      <td>3.53559</td>\n",
       "      <td>31.796160</td>\n",
       "      <td>-94.179700</td>\n",
       "      <td>6.44282</td>\n",
       "      <td>3.53517</td>\n",
       "      <td>559225</td>\n",
       "      <td>711443</td>\n",
       "    </tr>\n",
       "    <tr>\n",
       "      <th>15</th>\n",
       "      <td>Tafawa Balewa Square, Lagos</td>\n",
       "      <td>6.44887</td>\n",
       "      <td>3.40107</td>\n",
       "      <td>6.445760</td>\n",
       "      <td>3.400990</td>\n",
       "      <td>6.4488</td>\n",
       "      <td>3.40158</td>\n",
       "      <td>544349</td>\n",
       "      <td>712842</td>\n",
       "    </tr>\n",
       "    <tr>\n",
       "      <th>16</th>\n",
       "      <td>Kalakuta Republic Museum, Lagos</td>\n",
       "      <td>6.6029</td>\n",
       "      <td>3.34856</td>\n",
       "      <td>6.497450</td>\n",
       "      <td>3.114530</td>\n",
       "      <td>None</td>\n",
       "      <td>None</td>\n",
       "      <td>538530</td>\n",
       "      <td>729865</td>\n",
       "    </tr>\n",
       "  </tbody>\n",
       "</table>\n",
       "</div>"
      ],
      "text/plain": [
       "                                               Places Google-Latitude  \\\n",
       "0   Chamber of Commerce and Industry Conference Ce...         6.62535   \n",
       "1                             Bar Beach Towers, Lagos         6.42368   \n",
       "2                            Slave Trade House, Lagos            None   \n",
       "3                          Conservation Centre, Lagos          6.4361   \n",
       "4                      Whispering Palms Resort, Lagos         6.41571   \n",
       "5                             National Theatre, Lagos         6.47644   \n",
       "6                                Coconut Beach, Lagos         6.65182   \n",
       "7                             The Civic Centre, Lagos         6.43988   \n",
       "8                        Third Mainland Bridge, Lagos         6.50245   \n",
       "9                          Badagry Slave Route, Lagos         6.40031   \n",
       "10                                Freedom Park, Lagos          6.4489   \n",
       "11                Iga Idungaran (Oba's Palace), Lagos            None   \n",
       "12                             National Museum, Lagos         6.44407   \n",
       "13                               Tinubu Square, Lagos         6.45367   \n",
       "14                   Lekki Conservation center, Lagos          6.4361   \n",
       "15                        Tafawa Balewa Square, Lagos         6.44887   \n",
       "16                    Kalakuta Republic Museum, Lagos          6.6029   \n",
       "\n",
       "   Google-Longitude  ArcGIS-Latitude  ArcGIS-Longitude OpenStreetMap-Latitude  \\\n",
       "0           3.36305        41.328260         19.815140                   None   \n",
       "1           3.41415         6.423480          3.413810                   None   \n",
       "2              None        36.363280        -81.725480                   None   \n",
       "3           3.53559       -41.289860        174.775230                6.44282   \n",
       "4           3.04479         6.417360          3.043990                   None   \n",
       "5           3.36935         6.485490          3.364810                47.4716   \n",
       "6           3.25978        26.399130        -81.838070                51.9499   \n",
       "7           3.43065         6.439220          3.431100                6.43986   \n",
       "8           3.40251         6.592550          3.383626                6.50616   \n",
       "9           2.87547         6.411950          2.883340                   None   \n",
       "10          3.39648         6.454747          3.338571                6.44882   \n",
       "11             None         6.628580          3.986110                   None   \n",
       "12          3.40329        17.967100        102.607320                52.2394   \n",
       "13          3.38996         6.453690          3.389490                6.51726   \n",
       "14          3.53559        31.796160        -94.179700                6.44282   \n",
       "15          3.40107         6.445760          3.400990                 6.4488   \n",
       "16          3.34856         6.497450          3.114530                   None   \n",
       "\n",
       "   OpenStreetMap-Longitude       X       Y  \n",
       "0                     None  540130  732348  \n",
       "1                     None  545798  710058  \n",
       "2                     None    None    None  \n",
       "3                  3.53517  559225  711443  \n",
       "4                     None  504953  709159  \n",
       "5                  19.0704  540839  715887  \n",
       "6                  7.60407  528714  735266  \n",
       "7                  3.43032  547621  711850  \n",
       "8                  3.40369  544504  718765  \n",
       "9                     None  486228  707458  \n",
       "10                 3.39654  543841  712845  \n",
       "11                    None    None    None  \n",
       "12                 21.0362  544595  712311  \n",
       "13                 3.36662  543120  713371  \n",
       "14                 3.53517  559225  711443  \n",
       "15                 3.40158  544349  712842  \n",
       "16                    None  538530  729865  "
      ]
     },
     "execution_count": 6,
     "metadata": {},
     "output_type": "execute_result"
    }
   ],
   "source": [
    "# defining the input and out Coordinate Systems\n",
    "inProj = Proj(init='epsg:4326') # WGS84 -- http://epsg.io/4326\n",
    "outProj = Proj(init='epsg:32631') # UTM Zone 31 -- http://epsg.io/32631\n",
    "\n",
    "# convert Latitude and Longitude dataframe columns to list\n",
    "long_list = list(df[\"Google-Longitude\"])\n",
    "lat_list = list(df[\"Google-Latitude\"])\n",
    "\n",
    "xy_list = [] # an empty list to hold x/y\n",
    "\n",
    "for long, lat in zip(long_list, lat_list):\n",
    "    try:\n",
    "        x, y = transform(inProj, outProj, long, lat)\n",
    "#         print (x, y)\n",
    "        xy_list.append((x, y))\n",
    "    except Exception:\n",
    "#         print (\"None\")\n",
    "        xy_list.append(('None', 'None'))\n",
    "        continue\n",
    "\n",
    "# convert the \"xy_list\" to dataframe .....\n",
    "xy_list_df = pd.DataFrame(xy_list, columns=['X', 'Y'])\n",
    "\n",
    "# add 'X' and 'Y' columns above to the places dataframe\n",
    "df['X'], df['Y'] = xy_list_df['X'], xy_list_df['Y']\n",
    "\n",
    "# save to CSV\n",
    "df.to_csv(\"Tourist_Attractions_in_Lagos_with_LatLong+XY.csv\", index=None)\n",
    "\n",
    "df"
   ]
  },
  {
   "cell_type": "code",
   "execution_count": null,
   "metadata": {
    "collapsed": true
   },
   "outputs": [],
   "source": []
  },
  {
   "cell_type": "markdown",
   "metadata": {},
   "source": [
    "## 2) Web-based Geo data visulization"
   ]
  },
  {
   "cell_type": "markdown",
   "metadata": {},
   "source": [
    "This is also-known-as \"Web-based GIS or Mapping\". There many libraries for this, here we will use the \"Folium\" libarary to visualize the tourist attraction places above on a web map."
   ]
  },
  {
   "cell_type": "markdown",
   "metadata": {},
   "source": [
    "### Tourist Attractions in Lagos"
   ]
  },
  {
   "cell_type": "code",
   "execution_count": 87,
   "metadata": {
    "collapsed": false
   },
   "outputs": [
    {
     "data": {
      "text/html": [
       "<div style=\"width:100%;\"><div style=\"position:relative;width:100%;height:0;padding-bottom:60%;\"><iframe src=\"data:text/html;charset=utf-8;base64,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\" style=\"position:absolute;width:100%;height:100%;left:0;top:0;border:none !important;\" allowfullscreen webkitallowfullscreen mozallowfullscreen></iframe></div></div>"
      ],
      "text/plain": [
       "<folium.folium.Map at 0xb2e4d68>"
      ]
     },
     "execution_count": 87,
     "metadata": {},
     "output_type": "execute_result"
    }
   ],
   "source": [
    "# remove unwanted rows (rows without coordinates)\n",
    "df = df[df['Google-Latitude'] != 'None']\n",
    "# df\n",
    "\n",
    "# convert Places, Latitude and Longitude dataframe columns to list\n",
    "places_list = list(df['Places'])\n",
    "long_list = list(df[\"Google-Longitude\"])\n",
    "lat_list = list(df[\"Google-Latitude\"])\n",
    "\n",
    "# create folium map object\n",
    "lagos_map = folium.Map(location=[6.532,3.434], zoom_start=10) # location=[Lat, Long]\n",
    "\n",
    "# loop through the lists and create markers on the map object\n",
    "for long, lat, name in zip(long_list, lat_list, places_list):\n",
    "    lagos_map.add_child(folium.Marker(location=[lat, long], popup=name))\n",
    "#     lagos_map.add_child(folium.CircleMarker(location=[lat, long], popup=name, radius=5, color='green', fill_color='green', fill_opacity=.2))\n",
    "\n",
    "\n",
    "# Display the map inline\n",
    "lagos_map\n",
    "\n",
    "# you can save the map to html\n",
    "# lagos_map.save(\"Lagos_Tourist_Attraction_Map.html\")"
   ]
  },
  {
   "cell_type": "markdown",
   "metadata": {},
   "source": [
    "### Add Conference and Hotel locations\n",
    "\n",
    "We want to see the closest Tourist Attractions to the Conference Venue/Hotel."
   ]
  },
  {
   "cell_type": "code",
   "execution_count": 122,
   "metadata": {
    "collapsed": false
   },
   "outputs": [
    {
     "data": {
      "text/html": [
       "<div style=\"width:100%;\"><div style=\"position:relative;width:100%;height:0;padding-bottom:60%;\"><iframe src=\"data:text/html;charset=utf-8;base64,PCFET0NUWVBFIGh0bWw+CjxoZWFkPiAgICAKICAgIDxtZXRhIGh0dHAtZXF1aXY9ImNvbnRlbnQtdHlwZSIgY29udGVudD0idGV4dC9odG1sOyBjaGFyc2V0PVVURi04IiAvPgogICAgPHNjcmlwdD5MX1BSRUZFUl9DQU5WQVMgPSBmYWxzZTsgTF9OT19UT1VDSCA9IGZhbHNlOyBMX0RJU0FCTEVfM0QgPSBmYWxzZTs8L3NjcmlwdD4KICAgIDxzY3JpcHQgc3JjPSJodHRwczovL3VucGtnLmNvbS9sZWFmbGV0QDEuMC4xL2Rpc3QvbGVhZmxldC5qcyI+PC9zY3JpcHQ+CiAgICA8c2NyaXB0IHNyYz0iaHR0cHM6Ly9hamF4Lmdvb2dsZWFwaXMuY29tL2FqYXgvbGlicy9qcXVlcnkvMS4xMS4xL2pxdWVyeS5taW4uanMiPjwvc2NyaXB0PgogICAgPHNjcmlwdCBzcmM9Imh0dHBzOi8vbWF4Y2RuLmJvb3RzdHJhcGNkbi5jb20vYm9vdHN0cmFwLzMuMi4wL2pzL2Jvb3RzdHJhcC5taW4uanMiPjwvc2NyaXB0PgogICAgPHNjcmlwdCBzcmM9Imh0dHBzOi8vY2RuanMuY2xvdWRmbGFyZS5jb20vYWpheC9saWJzL0xlYWZsZXQuYXdlc29tZS1tYXJrZXJzLzIuMC4yL2xlYWZsZXQuYXdlc29tZS1tYXJrZXJzLmpzIj48L3NjcmlwdD4KICAgIDxzY3JpcHQgc3JjPSJodHRwczovL2NkbmpzLmNsb3VkZmxhcmUuY29tL2FqYXgvbGlicy9sZWFmbGV0Lm1hcmtlcmNsdXN0ZXIvMS4wLjAvbGVhZmxldC5tYXJrZXJjbHVzdGVyLXNyYy5qcyI+PC9zY3JpcHQ+CiAgICA8c2NyaXB0IHNyYz0iaHR0cHM6Ly9jZG5qcy5jbG91ZGZsYXJlLmNvbS9hamF4L2xpYnMvbGVhZmxldC5tYXJrZXJjbHVzdGVyLzEuMC4wL2xlYWZsZXQubWFya2VyY2x1c3Rlci5qcyI+PC9zY3JpcHQ+CiAgICA8bGluayByZWw9InN0eWxlc2hlZXQiIGhyZWY9Imh0dHBzOi8vdW5wa2cuY29tL2xlYWZsZXRAMS4wLjEvZGlzdC9sZWFmbGV0LmNzcyIgLz4KICAgIDxsaW5rIHJlbD0ic3R5bGVzaGVldCIgaHJlZj0iaHR0cHM6Ly9tYXhjZG4uYm9vdHN0cmFwY2RuLmNvbS9ib290c3RyYXAvMy4yLjAvY3NzL2Jvb3RzdHJhcC5taW4uY3NzIiAvPgogICAgPGxpbmsgcmVsPSJzdHlsZXNoZWV0IiBocmVmPSJodHRwczovL21heGNkbi5ib290c3RyYXBjZG4uY29tL2Jvb3RzdHJhcC8zLjIuMC9jc3MvYm9vdHN0cmFwLXRoZW1lLm1pbi5jc3MiIC8+CiAgICA8bGluayByZWw9InN0eWxlc2hlZXQiIGhyZWY9Imh0dHBzOi8vbWF4Y2RuLmJvb3RzdHJhcGNkbi5jb20vZm9udC1hd2Vzb21lLzQuNi4zL2Nzcy9mb250LWF3ZXNvbWUubWluLmNzcyIgLz4KICAgIDxsaW5rIHJlbD0ic3R5bGVzaGVldCIgaHJlZj0iaHR0cHM6Ly9jZG5qcy5jbG91ZGZsYXJlLmNvbS9hamF4L2xpYnMvTGVhZmxldC5hd2Vzb21lLW1hcmtlcnMvMi4wLjIvbGVhZmxldC5hd2Vzb21lLW1hcmtlcnMuY3NzIiAvPgogICAgPGxpbmsgcmVsPSJzdHlsZXNoZWV0IiBocmVmPSJodHRwczovL2NkbmpzLmNsb3VkZmxhcmUuY29tL2FqYXgvbGlicy9sZWFmbGV0Lm1hcmtlcmNsdXN0ZXIvMS4wLjAvTWFya2VyQ2x1c3Rlci5EZWZhdWx0LmNzcyIgLz4KICAgIDxsaW5rIHJlbD0ic3R5bGVzaGVldCIgaHJlZj0iaHR0cHM6Ly9jZG5qcy5jbG91ZGZsYXJlLmNvbS9hamF4L2xpYnMvbGVhZmxldC5tYXJrZXJjbHVzdGVyLzEuMC4wL01hcmtlckNsdXN0ZXIuY3NzIiAvPgogICAgPGxpbmsgcmVsPSJzdHlsZXNoZWV0IiBocmVmPSJodHRwczovL3Jhd2dpdC5jb20vcHl0aG9uLXZpc3VhbGl6YXRpb24vZm9saXVtL21hc3Rlci9mb2xpdW0vdGVtcGxhdGVzL2xlYWZsZXQuYXdlc29tZS5yb3RhdGUuY3NzIiAvPgogICAgPHN0eWxlPmh0bWwsIGJvZHkge3dpZHRoOiAxMDAlO2hlaWdodDogMTAwJTttYXJnaW46IDA7cGFkZGluZzogMDt9PC9zdHlsZT4KICAgIDxzdHlsZT4jbWFwIHtwb3NpdGlvbjphYnNvbHV0ZTt0b3A6MDtib3R0b206MDtyaWdodDowO2xlZnQ6MDt9PC9zdHlsZT4KICAgIAogICAgICAgICAgICA8c3R5bGU+ICNtYXBfNGMyYTE0NWQ1MDJlNDZkYjhjZjVmMjU5YTdlM2ZlODkgewogICAgICAgICAgICAgICAgcG9zaXRpb24gOiByZWxhdGl2ZTsKICAgICAgICAgICAgICAgIHdpZHRoIDogMTAwLjAlOwogICAgICAgICAgICAgICAgaGVpZ2h0OiAxMDAuMCU7CiAgICAgICAgICAgICAgICBsZWZ0OiAwLjAlOwogICAgICAgICAgICAgICAgdG9wOiAwLjAlOwogICAgICAgICAgICAgICAgfQogICAgICAgICAgICA8L3N0eWxlPgogICAgICAgIAo8L2hlYWQ+Cjxib2R5PiAgICAKICAgIAogICAgICAgICAgICA8ZGl2IGNsYXNzPSJmb2xpdW0tbWFwIiBpZD0ibWFwXzRjMmExNDVkNTAyZTQ2ZGI4Y2Y1ZjI1OWE3ZTNmZTg5IiA+PC9kaXY+CiAgICAgICAgCjwvYm9keT4KPHNjcmlwdD4gICAgCiAgICAKCiAgICAgICAgICAgIAogICAgICAgICAgICAgICAgdmFyIHNvdXRoV2VzdCA9IEwubGF0TG5nKC05MCwgLTE4MCk7CiAgICAgICAgICAgICAgICB2YXIgbm9ydGhFYXN0ID0gTC5sYXRMbmcoOTAsIDE4MCk7CiAgICAgICAgICAgICAgICB2YXIgYm91bmRzID0gTC5sYXRMbmdCb3VuZHMoc291dGhXZXN0LCBub3J0aEVhc3QpOwogICAgICAgICAgICAKCiAgICAgICAgICAgIHZhciBtYXBfNGMyYTE0NWQ1MDJlNDZkYjhjZjVmMjU5YTdlM2ZlODkgPSBMLm1hcCgKICAgICAgICAgICAgICAgICAgICAgICAgICAgICAgICAgICdtYXBfNGMyYTE0NWQ1MDJlNDZkYjhjZjVmMjU5YTdlM2ZlODknLAogICAgICAgICAgICAgICAgICAgICAgICAgICAgICAgICAge2NlbnRlcjogWzYuNTMyLDMuNDM0XSwKICAgICAgICAgICAgICAgICAgICAgICAgICAgICAgICAgIHpvb206IDEwLAogICAgICAgICAgICAgICAgICAgICAgICAgICAgICAgICAgbWF4Qm91bmRzOiBib3VuZHMsCiAgICAgICAgICAgICAgICAgICAgICAgICAgICAgICAgICBsYXllcnM6IFtdLAogICAgICAgICAgICAgICAgICAgICAgICAgICAgICAgICAgd29ybGRDb3B5SnVtcDogZmFsc2UsCiAgICAgICAgICAgICAgICAgICAgICAgICAgICAgICAgICBjcnM6IEwuQ1JTLkVQU0czODU3CiAgICAgICAgICAgICAgICAgICAgICAgICAgICAgICAgIH0pOwogICAgICAgICAgICAKICAgICAgICAKICAgIAogICAgICAgICAgICB2YXIgdGlsZV9sYXllcl9jZjI1ZTJlNDZmYTA0ZjVhYWNkM2YzNTQ5NDk1NjFhMSA9IEwudGlsZUxheWVyKAogICAgICAgICAgICAgICAgJ2h0dHBzOi8ve3N9LnRpbGUub3BlbnN0cmVldG1hcC5vcmcve3p9L3t4fS97eX0ucG5nJywKICAgICAgICAgICAgICAgIHsKICAgICAgICAgICAgICAgICAgICBtYXhab29tOiAxOCwKICAgICAgICAgICAgICAgICAgICBtaW5ab29tOiAxLAogICAgICAgICAgICAgICAgICAgIGNvbnRpbnVvdXNXb3JsZDogZmFsc2UsCiAgICAgICAgICAgICAgICAgICAgbm9XcmFwOiBmYWxzZSwKICAgICAgICAgICAgICAgICAgICBhdHRyaWJ1dGlvbjogJ0RhdGEgYnkgPGEgaHJlZj0iaHR0cDovL29wZW5zdHJlZXRtYXAub3JnIj5PcGVuU3RyZWV0TWFwPC9hPiwgdW5kZXIgPGEgaHJlZj0iaHR0cDovL3d3dy5vcGVuc3RyZWV0bWFwLm9yZy9jb3B5cmlnaHQiPk9EYkw8L2E+LicsCiAgICAgICAgICAgICAgICAgICAgZGV0ZWN0UmV0aW5hOiBmYWxzZQogICAgICAgICAgICAgICAgICAgIH0KICAgICAgICAgICAgICAgICkuYWRkVG8obWFwXzRjMmExNDVkNTAyZTQ2ZGI4Y2Y1ZjI1OWE3ZTNmZTg5KTsKCiAgICAgICAgCiAgICAKCiAgICAgICAgICAgIHZhciBjaXJjbGVfbWFya2VyXzA3YjYxZGE4NmJmYTQ3YzRiNzg5M2JlMGMyMjEyMDdlID0gTC5jaXJjbGVNYXJrZXIoCiAgICAgICAgICAgICAgICBbNi42MjUyOTIsMy4zNjMwMDNdLAogICAgICAgICAgICAgICAgewogICAgICAgICAgICAgICAgICAgIGNvbG9yOiAnZ3JlZW4nLAogICAgICAgICAgICAgICAgICAgIHdlaWdodDogMiwKICAgICAgICAgICAgICAgICAgICBmaWxsQ29sb3I6ICdncmVlbicsCiAgICAgICAgICAgICAgICAgICAgZmlsbE9wYWNpdHk6IDAuMgogICAgICAgICAgICAgICAgICAgIH0KICAgICAgICAgICAgICAgICkKICAgICAgICAgICAgICAgIC5zZXRSYWRpdXMoMjApCiAgICAgICAgICAgICAgICAuYWRkVG8obWFwXzRjMmExNDVkNTAyZTQ2ZGI4Y2Y1ZjI1OWE3ZTNmZTg5KTsKICAgICAgICAgICAgCiAgICAKICAgICAgICAgICAgdmFyIHBvcHVwXzQ1YWYzYzY2YTNlNDQ5NzJhMjgzYTFhMmVlOGRmN2I3ID0gTC5wb3B1cCh7bWF4V2lkdGg6ICczMDAnfSk7CgogICAgICAgICAgICAKICAgICAgICAgICAgICAgIHZhciBodG1sX2U1ZTJlYzFjNDg1MTRjZDNiNDE3N2M0NWIzMGY4Y2JlID0gJCgnPGRpdiBpZD0iaHRtbF9lNWUyZWMxYzQ4NTE0Y2QzYjQxNzdjNDViMzBmOGNiZSIgc3R5bGU9IndpZHRoOiAxMDAuMCU7IGhlaWdodDogMTAwLjAlOyI+TGFnb3MgQ2hhbWJlciBvZiBDb21tZXJjZSBhbmQgSW5kdXN0cnkgKExDQ0kpPC9kaXY+JylbMF07CiAgICAgICAgICAgICAgICBwb3B1cF80NWFmM2M2NmEzZTQ0OTcyYTI4M2ExYTJlZThkZjdiNy5zZXRDb250ZW50KGh0bWxfZTVlMmVjMWM0ODUxNGNkM2I0MTc3YzQ1YjMwZjhjYmUpOwogICAgICAgICAgICAKCiAgICAgICAgICAgIGNpcmNsZV9tYXJrZXJfMDdiNjFkYTg2YmZhNDdjNGI3ODkzYmUwYzIyMTIwN2UuYmluZFBvcHVwKHBvcHVwXzQ1YWYzYzY2YTNlNDQ5NzJhMjgzYTFhMmVlOGRmN2I3KTsKCiAgICAgICAgICAgIAogICAgICAgIAogICAgCgogICAgICAgICAgICB2YXIgY2lyY2xlX21hcmtlcl8zMGNjYTgwY2MwZjU0NDU1YTljNDM3NTJiZjE0NGVhMCA9IEwuY2lyY2xlTWFya2VyKAogICAgICAgICAgICAgICAgWzYuNjA4NDc5LDMuMzUwMzQ0XSwKICAgICAgICAgICAgICAgIHsKICAgICAgICAgICAgICAgICAgICBjb2xvcjogJ3JlZCcsCiAgICAgICAgICAgICAgICAgICAgd2VpZ2h0OiAyLAogICAgICAgICAgICAgICAgICAgIGZpbGxDb2xvcjogJ3JlZCcsCiAgICAgICAgICAgICAgICAgICAgZmlsbE9wYWNpdHk6IDAuMgogICAgICAgICAgICAgICAgICAgIH0KICAgICAgICAgICAgICAgICkKICAgICAgICAgICAgICAgIC5zZXRSYWRpdXMoMjApCiAgICAgICAgICAgICAgICAuYWRkVG8obWFwXzRjMmExNDVkNTAyZTQ2ZGI4Y2Y1ZjI1OWE3ZTNmZTg5KTsKICAgICAgICAgICAgCiAgICAKICAgICAgICAgICAgdmFyIHBvcHVwXzNkZDFlZjY4NjI5NzRhMmRhOGQ0OTg3ZmRkMTM4MWNkID0gTC5wb3B1cCh7bWF4V2lkdGg6ICczMDAnfSk7CgogICAgICAgICAgICAKICAgICAgICAgICAgICAgIHZhciBodG1sX2ZjZTA2NzQ0MzU0MjQwMDc5Y2NkNWI4MzQwODBhMzg1ID0gJCgnPGRpdiBpZD0iaHRtbF9mY2UwNjc0NDM1NDI0MDA3OWNjZDViODM0MDgwYTM4NSIgc3R5bGU9IndpZHRoOiAxMDAuMCU7IGhlaWdodDogMTAwLjAlOyI+UHJlc2tlbiBIb3RlbCAoQXdvbG93byB3YXkpPC9kaXY+JylbMF07CiAgICAgICAgICAgICAgICBwb3B1cF8zZGQxZWY2ODYyOTc0YTJkYThkNDk4N2ZkZDEzODFjZC5zZXRDb250ZW50KGh0bWxfZmNlMDY3NDQzNTQyNDAwNzljY2Q1YjgzNDA4MGEzODUpOwogICAgICAgICAgICAKCiAgICAgICAgICAgIGNpcmNsZV9tYXJrZXJfMzBjY2E4MGNjMGY1NDQ1NWE5YzQzNzUyYmYxNDRlYTAuYmluZFBvcHVwKHBvcHVwXzNkZDFlZjY4NjI5NzRhMmRhOGQ0OTg3ZmRkMTM4MWNkKTsKCiAgICAgICAgICAgIAogICAgICAgIAogICAgCgogICAgICAgICAgICB2YXIgbWFya2VyXzg1ZDU4MjY4ZjVjODQyNDM4NjcwY2U2YmZhZGU1Zjk0ID0gTC5tYXJrZXIoCiAgICAgICAgICAgICAgICBbNi40MjM2ODAzLDMuNDE0MTVdLAogICAgICAgICAgICAgICAgewogICAgICAgICAgICAgICAgICAgIGljb246IG5ldyBMLkljb24uRGVmYXVsdCgpCiAgICAgICAgICAgICAgICAgICAgfQogICAgICAgICAgICAgICAgKQogICAgICAgICAgICAgICAgLmFkZFRvKG1hcF80YzJhMTQ1ZDUwMmU0NmRiOGNmNWYyNTlhN2UzZmU4OSk7CiAgICAgICAgICAgIAogICAgCiAgICAgICAgICAgIHZhciBwb3B1cF9lNzRmYTdiZGRkMzE0NGYyYTNjYTk2ZjQ1MjZiMGFlMSA9IEwucG9wdXAoe21heFdpZHRoOiAnMzAwJ30pOwoKICAgICAgICAgICAgCiAgICAgICAgICAgICAgICB2YXIgaHRtbF82ZjI1MDc2MDkxNmE0OWVmYWIwZDQ3MmU5NmY5ZDUxZCA9ICQoJzxkaXYgaWQ9Imh0bWxfNmYyNTA3NjA5MTZhNDllZmFiMGQ0NzJlOTZmOWQ1MWQiIHN0eWxlPSJ3aWR0aDogMTAwLjAlOyBoZWlnaHQ6IDEwMC4wJTsiPkJhciBCZWFjaCBUb3dlcnMsIExhZ29zPC9kaXY+JylbMF07CiAgICAgICAgICAgICAgICBwb3B1cF9lNzRmYTdiZGRkMzE0NGYyYTNjYTk2ZjQ1MjZiMGFlMS5zZXRDb250ZW50KGh0bWxfNmYyNTA3NjA5MTZhNDllZmFiMGQ0NzJlOTZmOWQ1MWQpOwogICAgICAgICAgICAKCiAgICAgICAgICAgIG1hcmtlcl84NWQ1ODI2OGY1Yzg0MjQzODY3MGNlNmJmYWRlNWY5NC5iaW5kUG9wdXAocG9wdXBfZTc0ZmE3YmRkZDMxNDRmMmEzY2E5NmY0NTI2YjBhZTEpOwoKICAgICAgICAgICAgCiAgICAgICAgCiAgICAKCiAgICAgICAgICAgIHZhciBtYXJrZXJfMjdmNjdiNzkwYzlhNDNmNWJkY2Y2YzMwNzkwM2Y2MmIgPSBMLm1hcmtlcigKICAgICAgICAgICAgICAgIFs2LjQzNjA5OTIsMy41MzU1ODU1XSwKICAgICAgICAgICAgICAgIHsKICAgICAgICAgICAgICAgICAgICBpY29uOiBuZXcgTC5JY29uLkRlZmF1bHQoKQogICAgICAgICAgICAgICAgICAgIH0KICAgICAgICAgICAgICAgICkKICAgICAgICAgICAgICAgIC5hZGRUbyhtYXBfNGMyYTE0NWQ1MDJlNDZkYjhjZjVmMjU5YTdlM2ZlODkpOwogICAgICAgICAgICAKICAgIAogICAgICAgICAgICB2YXIgcG9wdXBfYmNjN2YxYzA1YTMwNGRiZGJkYjFkNDlhZjIyZjQzODEgPSBMLnBvcHVwKHttYXhXaWR0aDogJzMwMCd9KTsKCiAgICAgICAgICAgIAogICAgICAgICAgICAgICAgdmFyIGh0bWxfNTVjNmY5OGIzODIwNDY1NGE4NjY2NjQ3ZmI3YjM1NDAgPSAkKCc8ZGl2IGlkPSJodG1sXzU1YzZmOThiMzgyMDQ2NTRhODY2NjY0N2ZiN2IzNTQwIiBzdHlsZT0id2lkdGg6IDEwMC4wJTsgaGVpZ2h0OiAxMDAuMCU7Ij5Db25zZXJ2YXRpb24gQ2VudHJlLCBMYWdvczwvZGl2PicpWzBdOwogICAgICAgICAgICAgICAgcG9wdXBfYmNjN2YxYzA1YTMwNGRiZGJkYjFkNDlhZjIyZjQzODEuc2V0Q29udGVudChodG1sXzU1YzZmOThiMzgyMDQ2NTRhODY2NjY0N2ZiN2IzNTQwKTsKICAgICAgICAgICAgCgogICAgICAgICAgICBtYXJrZXJfMjdmNjdiNzkwYzlhNDNmNWJkY2Y2YzMwNzkwM2Y2MmIuYmluZFBvcHVwKHBvcHVwX2JjYzdmMWMwNWEzMDRkYmRiZGIxZDQ5YWYyMmY0MzgxKTsKCiAgICAgICAgICAgIAogICAgICAgIAogICAgCgogICAgICAgICAgICB2YXIgbWFya2VyX2JmNTQ5NjI3MzA5MDQ3NDA4ZWY2YjM1MjFmYTM4YWVmID0gTC5tYXJrZXIoCiAgICAgICAgICAgICAgICBbNi40MTU3MTQ4LDMuMDQ0Nzg4Ml0sCiAgICAgICAgICAgICAgICB7CiAgICAgICAgICAgICAgICAgICAgaWNvbjogbmV3IEwuSWNvbi5EZWZhdWx0KCkKICAgICAgICAgICAgICAgICAgICB9CiAgICAgICAgICAgICAgICApCiAgICAgICAgICAgICAgICAuYWRkVG8obWFwXzRjMmExNDVkNTAyZTQ2ZGI4Y2Y1ZjI1OWE3ZTNmZTg5KTsKICAgICAgICAgICAgCiAgICAKICAgICAgICAgICAgdmFyIHBvcHVwXzkyM2JjY2NjYzYxZTQyY2E4YTJjZTc1MTRkZTNkOWQwID0gTC5wb3B1cCh7bWF4V2lkdGg6ICczMDAnfSk7CgogICAgICAgICAgICAKICAgICAgICAgICAgICAgIHZhciBodG1sX2NjOTQyMDFiZjI0ZDQyZGRhNDMyYzYzZjBhNjBmNDIyID0gJCgnPGRpdiBpZD0iaHRtbF9jYzk0MjAxYmYyNGQ0MmRkYTQzMmM2M2YwYTYwZjQyMiIgc3R5bGU9IndpZHRoOiAxMDAuMCU7IGhlaWdodDogMTAwLjAlOyI+V2hpc3BlcmluZyBQYWxtcyBSZXNvcnQsIExhZ29zPC9kaXY+JylbMF07CiAgICAgICAgICAgICAgICBwb3B1cF85MjNiY2NjY2M2MWU0MmNhOGEyY2U3NTE0ZGUzZDlkMC5zZXRDb250ZW50KGh0bWxfY2M5NDIwMWJmMjRkNDJkZGE0MzJjNjNmMGE2MGY0MjIpOwogICAgICAgICAgICAKCiAgICAgICAgICAgIG1hcmtlcl9iZjU0OTYyNzMwOTA0NzQwOGVmNmIzNTIxZmEzOGFlZi5iaW5kUG9wdXAocG9wdXBfOTIzYmNjY2NjNjFlNDJjYThhMmNlNzUxNGRlM2Q5ZDApOwoKICAgICAgICAgICAgCiAgICAgICAgCiAgICAKCiAgICAgICAgICAgIHZhciBtYXJrZXJfMGY3NTI2NjdjNWRmNDRiNDhjYTQ5Y2U2NGQ5NDM2ZTQgPSBMLm1hcmtlcigKICAgICAgICAgICAgICAgIFs2LjQ3NjQ0MzQsMy4zNjkzNTI3XSwKICAgICAgICAgICAgICAgIHsKICAgICAgICAgICAgICAgICAgICBpY29uOiBuZXcgTC5JY29uLkRlZmF1bHQoKQogICAgICAgICAgICAgICAgICAgIH0KICAgICAgICAgICAgICAgICkKICAgICAgICAgICAgICAgIC5hZGRUbyhtYXBfNGMyYTE0NWQ1MDJlNDZkYjhjZjVmMjU5YTdlM2ZlODkpOwogICAgICAgICAgICAKICAgIAogICAgICAgICAgICB2YXIgcG9wdXBfYmJkNzE2OGZiMDRlNGI2ZTlhMGI2MjU4OTBlOTczN2IgPSBMLnBvcHVwKHttYXhXaWR0aDogJzMwMCd9KTsKCiAgICAgICAgICAgIAogICAgICAgICAgICAgICAgdmFyIGh0bWxfNDdmMGJiNjRiZjEzNGEyZDkxNTJmZGEwNGQyNDA3MTIgPSAkKCc8ZGl2IGlkPSJodG1sXzQ3ZjBiYjY0YmYxMzRhMmQ5MTUyZmRhMDRkMjQwNzEyIiBzdHlsZT0id2lkdGg6IDEwMC4wJTsgaGVpZ2h0OiAxMDAuMCU7Ij5OYXRpb25hbCBUaGVhdHJlLCBMYWdvczwvZGl2PicpWzBdOwogICAgICAgICAgICAgICAgcG9wdXBfYmJkNzE2OGZiMDRlNGI2ZTlhMGI2MjU4OTBlOTczN2Iuc2V0Q29udGVudChodG1sXzQ3ZjBiYjY0YmYxMzRhMmQ5MTUyZmRhMDRkMjQwNzEyKTsKICAgICAgICAgICAgCgogICAgICAgICAgICBtYXJrZXJfMGY3NTI2NjdjNWRmNDRiNDhjYTQ5Y2U2NGQ5NDM2ZTQuYmluZFBvcHVwKHBvcHVwX2JiZDcxNjhmYjA0ZTRiNmU5YTBiNjI1ODkwZTk3MzdiKTsKCiAgICAgICAgICAgIAogICAgICAgIAogICAgCgogICAgICAgICAgICB2YXIgbWFya2VyX2MxZmIwYjk5N2Y1MzQ4OGI4OGNkZGZiMmQ4ZTcwMzE3ID0gTC5tYXJrZXIoCiAgICAgICAgICAgICAgICBbNi42NTE4MTUyLDMuMjU5Nzc3OV0sCiAgICAgICAgICAgICAgICB7CiAgICAgICAgICAgICAgICAgICAgaWNvbjogbmV3IEwuSWNvbi5EZWZhdWx0KCkKICAgICAgICAgICAgICAgICAgICB9CiAgICAgICAgICAgICAgICApCiAgICAgICAgICAgICAgICAuYWRkVG8obWFwXzRjMmExNDVkNTAyZTQ2ZGI4Y2Y1ZjI1OWE3ZTNmZTg5KTsKICAgICAgICAgICAgCiAgICAKICAgICAgICAgICAgdmFyIHBvcHVwXzMxZTM0ZDI4YTBmZDQ4YWQ5YjFkMDY2MDI5MzQ0NTQzID0gTC5wb3B1cCh7bWF4V2lkdGg6ICczMDAnfSk7CgogICAgICAgICAgICAKICAgICAgICAgICAgICAgIHZhciBodG1sX2ExMDAwODg5NzY0OTRmYWFiNjJjYWU4MmMxNzU5MzUzID0gJCgnPGRpdiBpZD0iaHRtbF9hMTAwMDg4OTc2NDk0ZmFhYjYyY2FlODJjMTc1OTM1MyIgc3R5bGU9IndpZHRoOiAxMDAuMCU7IGhlaWdodDogMTAwLjAlOyI+Q29jb251dCBCZWFjaCwgTGFnb3M8L2Rpdj4nKVswXTsKICAgICAgICAgICAgICAgIHBvcHVwXzMxZTM0ZDI4YTBmZDQ4YWQ5YjFkMDY2MDI5MzQ0NTQzLnNldENvbnRlbnQoaHRtbF9hMTAwMDg4OTc2NDk0ZmFhYjYyY2FlODJjMTc1OTM1Myk7CiAgICAgICAgICAgIAoKICAgICAgICAgICAgbWFya2VyX2MxZmIwYjk5N2Y1MzQ4OGI4OGNkZGZiMmQ4ZTcwMzE3LmJpbmRQb3B1cChwb3B1cF8zMWUzNGQyOGEwZmQ0OGFkOWIxZDA2NjAyOTM0NDU0Myk7CgogICAgICAgICAgICAKICAgICAgICAKICAgIAoKICAgICAgICAgICAgdmFyIG1hcmtlcl9hYzQzMGRjYWNiZjg0NDVkYWM5Zjc5ODI2YjU2ODBiYSA9IEwubWFya2VyKAogICAgICAgICAgICAgICAgWzYuNDM5ODgwOCwzLjQzMDY0OTZdLAogICAgICAgICAgICAgICAgewogICAgICAgICAgICAgICAgICAgIGljb246IG5ldyBMLkljb24uRGVmYXVsdCgpCiAgICAgICAgICAgICAgICAgICAgfQogICAgICAgICAgICAgICAgKQogICAgICAgICAgICAgICAgLmFkZFRvKG1hcF80YzJhMTQ1ZDUwMmU0NmRiOGNmNWYyNTlhN2UzZmU4OSk7CiAgICAgICAgICAgIAogICAgCiAgICAgICAgICAgIHZhciBwb3B1cF9hNTA5ODhlOTRhMzU0MjcyYWFkMDc5ODc1NWIyY2IwNCA9IEwucG9wdXAoe21heFdpZHRoOiAnMzAwJ30pOwoKICAgICAgICAgICAgCiAgICAgICAgICAgICAgICB2YXIgaHRtbF85MTI0YmRkMGEyZWQ0YzEzODJkOGExNTlkMTZiOGNmYyA9ICQoJzxkaXYgaWQ9Imh0bWxfOTEyNGJkZDBhMmVkNGMxMzgyZDhhMTU5ZDE2YjhjZmMiIHN0eWxlPSJ3aWR0aDogMTAwLjAlOyBoZWlnaHQ6IDEwMC4wJTsiPlRoZSBDaXZpYyBDZW50cmUsIExhZ29zPC9kaXY+JylbMF07CiAgICAgICAgICAgICAgICBwb3B1cF9hNTA5ODhlOTRhMzU0MjcyYWFkMDc5ODc1NWIyY2IwNC5zZXRDb250ZW50KGh0bWxfOTEyNGJkZDBhMmVkNGMxMzgyZDhhMTU5ZDE2YjhjZmMpOwogICAgICAgICAgICAKCiAgICAgICAgICAgIG1hcmtlcl9hYzQzMGRjYWNiZjg0NDVkYWM5Zjc5ODI2YjU2ODBiYS5iaW5kUG9wdXAocG9wdXBfYTUwOTg4ZTk0YTM1NDI3MmFhZDA3OTg3NTViMmNiMDQpOwoKICAgICAgICAgICAgCiAgICAgICAgCiAgICAKCiAgICAgICAgICAgIHZhciBtYXJrZXJfOGU4Y2FkNjdiNWI2NDA3NWFmYmJlODljYWRkOWY2YWUgPSBMLm1hcmtlcigKICAgICAgICAgICAgICAgIFs2LjUwMjQ1MzAwMDAwMDAwMSwzLjQwMjUxMzddLAogICAgICAgICAgICAgICAgewogICAgICAgICAgICAgICAgICAgIGljb246IG5ldyBMLkljb24uRGVmYXVsdCgpCiAgICAgICAgICAgICAgICAgICAgfQogICAgICAgICAgICAgICAgKQogICAgICAgICAgICAgICAgLmFkZFRvKG1hcF80YzJhMTQ1ZDUwMmU0NmRiOGNmNWYyNTlhN2UzZmU4OSk7CiAgICAgICAgICAgIAogICAgCiAgICAgICAgICAgIHZhciBwb3B1cF9hZTE5ZDAxMzg3MjE0YTFmYmZlM2MwNWE3Yjc4ZGQ5OCA9IEwucG9wdXAoe21heFdpZHRoOiAnMzAwJ30pOwoKICAgICAgICAgICAgCiAgICAgICAgICAgICAgICB2YXIgaHRtbF80ZTAyYmI2YjMxMjk0OWEyYmJiZjhjYzNhYTQ2NGIyNyA9ICQoJzxkaXYgaWQ9Imh0bWxfNGUwMmJiNmIzMTI5NDlhMmJiYmY4Y2MzYWE0NjRiMjciIHN0eWxlPSJ3aWR0aDogMTAwLjAlOyBoZWlnaHQ6IDEwMC4wJTsiPlRoaXJkIE1haW5sYW5kIEJyaWRnZSwgTGFnb3M8L2Rpdj4nKVswXTsKICAgICAgICAgICAgICAgIHBvcHVwX2FlMTlkMDEzODcyMTRhMWZiZmUzYzA1YTdiNzhkZDk4LnNldENvbnRlbnQoaHRtbF80ZTAyYmI2YjMxMjk0OWEyYmJiZjhjYzNhYTQ2NGIyNyk7CiAgICAgICAgICAgIAoKICAgICAgICAgICAgbWFya2VyXzhlOGNhZDY3YjViNjQwNzVhZmJiZTg5Y2FkZDlmNmFlLmJpbmRQb3B1cChwb3B1cF9hZTE5ZDAxMzg3MjE0YTFmYmZlM2MwNWE3Yjc4ZGQ5OCk7CgogICAgICAgICAgICAKICAgICAgICAKICAgIAoKICAgICAgICAgICAgdmFyIG1hcmtlcl8zMDAwY2IwMmQyNjc0MDliOGVhNzk4OWJjNDBlYmIxMSA9IEwubWFya2VyKAogICAgICAgICAgICAgICAgWzYuNDAwMzE0NCwyLjg3NTQ2NzVdLAogICAgICAgICAgICAgICAgewogICAgICAgICAgICAgICAgICAgIGljb246IG5ldyBMLkljb24uRGVmYXVsdCgpCiAgICAgICAgICAgICAgICAgICAgfQogICAgICAgICAgICAgICAgKQogICAgICAgICAgICAgICAgLmFkZFRvKG1hcF80YzJhMTQ1ZDUwMmU0NmRiOGNmNWYyNTlhN2UzZmU4OSk7CiAgICAgICAgICAgIAogICAgCiAgICAgICAgICAgIHZhciBwb3B1cF9lMTU3NGQwMDQ3Zjk0YjBmYjc0N2NkYzFiZDFmYThjMCA9IEwucG9wdXAoe21heFdpZHRoOiAnMzAwJ30pOwoKICAgICAgICAgICAgCiAgICAgICAgICAgICAgICB2YXIgaHRtbF9iMDk1MThjYTMzYTk0MDBiOTg4M2I4ZmQyNmIyMmRhYyA9ICQoJzxkaXYgaWQ9Imh0bWxfYjA5NTE4Y2EzM2E5NDAwYjk4ODNiOGZkMjZiMjJkYWMiIHN0eWxlPSJ3aWR0aDogMTAwLjAlOyBoZWlnaHQ6IDEwMC4wJTsiPkJhZGFncnkgU2xhdmUgUm91dGUsIExhZ29zPC9kaXY+JylbMF07CiAgICAgICAgICAgICAgICBwb3B1cF9lMTU3NGQwMDQ3Zjk0YjBmYjc0N2NkYzFiZDFmYThjMC5zZXRDb250ZW50KGh0bWxfYjA5NTE4Y2EzM2E5NDAwYjk4ODNiOGZkMjZiMjJkYWMpOwogICAgICAgICAgICAKCiAgICAgICAgICAgIG1hcmtlcl8zMDAwY2IwMmQyNjc0MDliOGVhNzk4OWJjNDBlYmIxMS5iaW5kUG9wdXAocG9wdXBfZTE1NzRkMDA0N2Y5NGIwZmI3NDdjZGMxYmQxZmE4YzApOwoKICAgICAgICAgICAgCiAgICAgICAgCiAgICAKCiAgICAgICAgICAgIHZhciBtYXJrZXJfOTQ1MzIxMTRhZjdhNGQ0MTk5NWU3MTAyYjYwZjU0NDQgPSBMLm1hcmtlcigKICAgICAgICAgICAgICAgIFs2LjQ0ODkwMTcsMy4zOTY0NzU5XSwKICAgICAgICAgICAgICAgIHsKICAgICAgICAgICAgICAgICAgICBpY29uOiBuZXcgTC5JY29uLkRlZmF1bHQoKQogICAgICAgICAgICAgICAgICAgIH0KICAgICAgICAgICAgICAgICkKICAgICAgICAgICAgICAgIC5hZGRUbyhtYXBfNGMyYTE0NWQ1MDJlNDZkYjhjZjVmMjU5YTdlM2ZlODkpOwogICAgICAgICAgICAKICAgIAogICAgICAgICAgICB2YXIgcG9wdXBfYmUzZWM5ZjNiZDZkNDlkNzljNDkzNDVjODA2OWYzYzkgPSBMLnBvcHVwKHttYXhXaWR0aDogJzMwMCd9KTsKCiAgICAgICAgICAgIAogICAgICAgICAgICAgICAgdmFyIGh0bWxfOGRmOTQ2YjVlZjdlNGJlN2JlY2U5MGMyZWE1MTRjYmEgPSAkKCc8ZGl2IGlkPSJodG1sXzhkZjk0NmI1ZWY3ZTRiZTdiZWNlOTBjMmVhNTE0Y2JhIiBzdHlsZT0id2lkdGg6IDEwMC4wJTsgaGVpZ2h0OiAxMDAuMCU7Ij5GcmVlZG9tIFBhcmssIExhZ29zPC9kaXY+JylbMF07CiAgICAgICAgICAgICAgICBwb3B1cF9iZTNlYzlmM2JkNmQ0OWQ3OWM0OTM0NWM4MDY5ZjNjOS5zZXRDb250ZW50KGh0bWxfOGRmOTQ2YjVlZjdlNGJlN2JlY2U5MGMyZWE1MTRjYmEpOwogICAgICAgICAgICAKCiAgICAgICAgICAgIG1hcmtlcl85NDUzMjExNGFmN2E0ZDQxOTk1ZTcxMDJiNjBmNTQ0NC5iaW5kUG9wdXAocG9wdXBfYmUzZWM5ZjNiZDZkNDlkNzljNDkzNDVjODA2OWYzYzkpOwoKICAgICAgICAgICAgCiAgICAgICAgCiAgICAKCiAgICAgICAgICAgIHZhciBtYXJrZXJfNDdmNDQ1YTkzZDg5NDkxNDg4NzRlOGZjZDNjYjIzOTIgPSBMLm1hcmtlcigKICAgICAgICAgICAgICAgIFs2LjQ0NDA3MjksMy40MDMyOTVdLAogICAgICAgICAgICAgICAgewogICAgICAgICAgICAgICAgICAgIGljb246IG5ldyBMLkljb24uRGVmYXVsdCgpCiAgICAgICAgICAgICAgICAgICAgfQogICAgICAgICAgICAgICAgKQogICAgICAgICAgICAgICAgLmFkZFRvKG1hcF80YzJhMTQ1ZDUwMmU0NmRiOGNmNWYyNTlhN2UzZmU4OSk7CiAgICAgICAgICAgIAogICAgCiAgICAgICAgICAgIHZhciBwb3B1cF8wMTM3ZGVlMzMxMjI0NmY3YTYzNjU4ZTM0OWE5ZjY0MSA9IEwucG9wdXAoe21heFdpZHRoOiAnMzAwJ30pOwoKICAgICAgICAgICAgCiAgICAgICAgICAgICAgICB2YXIgaHRtbF9jYTRkNjRhYmU5ZTk0OGE4ODU4YzRhYmFjMTQ4N2U1OSA9ICQoJzxkaXYgaWQ9Imh0bWxfY2E0ZDY0YWJlOWU5NDhhODg1OGM0YWJhYzE0ODdlNTkiIHN0eWxlPSJ3aWR0aDogMTAwLjAlOyBoZWlnaHQ6IDEwMC4wJTsiPk5hdGlvbmFsIE11c2V1bSwgTGFnb3M8L2Rpdj4nKVswXTsKICAgICAgICAgICAgICAgIHBvcHVwXzAxMzdkZWUzMzEyMjQ2ZjdhNjM2NThlMzQ5YTlmNjQxLnNldENvbnRlbnQoaHRtbF9jYTRkNjRhYmU5ZTk0OGE4ODU4YzRhYmFjMTQ4N2U1OSk7CiAgICAgICAgICAgIAoKICAgICAgICAgICAgbWFya2VyXzQ3ZjQ0NWE5M2Q4OTQ5MTQ4ODc0ZThmY2QzY2IyMzkyLmJpbmRQb3B1cChwb3B1cF8wMTM3ZGVlMzMxMjI0NmY3YTYzNjU4ZTM0OWE5ZjY0MSk7CgogICAgICAgICAgICAKICAgICAgICAKICAgIAoKICAgICAgICAgICAgdmFyIG1hcmtlcl80MjM3ZjU2MTNmOGY0NTI0YTU0NzhhMDI5NWY4NGMxYiA9IEwubWFya2VyKAogICAgICAgICAgICAgICAgWzYuNDUzNjY1Mzk5OTk5OTk5LDMuMzg5OTYyNV0sCiAgICAgICAgICAgICAgICB7CiAgICAgICAgICAgICAgICAgICAgaWNvbjogbmV3IEwuSWNvbi5EZWZhdWx0KCkKICAgICAgICAgICAgICAgICAgICB9CiAgICAgICAgICAgICAgICApCiAgICAgICAgICAgICAgICAuYWRkVG8obWFwXzRjMmExNDVkNTAyZTQ2ZGI4Y2Y1ZjI1OWE3ZTNmZTg5KTsKICAgICAgICAgICAgCiAgICAKICAgICAgICAgICAgdmFyIHBvcHVwXzk4YmY4ZTZiYTY5MjQyNzU5MWU0MDEyODRiOGZlZjQyID0gTC5wb3B1cCh7bWF4V2lkdGg6ICczMDAnfSk7CgogICAgICAgICAgICAKICAgICAgICAgICAgICAgIHZhciBodG1sXzM4M2ZjMWI5MzliNzQ2ZmE5YjdiNWI4NWY4NWM5OTI5ID0gJCgnPGRpdiBpZD0iaHRtbF8zODNmYzFiOTM5Yjc0NmZhOWI3YjViODVmODVjOTkyOSIgc3R5bGU9IndpZHRoOiAxMDAuMCU7IGhlaWdodDogMTAwLjAlOyI+VGludWJ1IFNxdWFyZSwgTGFnb3M8L2Rpdj4nKVswXTsKICAgICAgICAgICAgICAgIHBvcHVwXzk4YmY4ZTZiYTY5MjQyNzU5MWU0MDEyODRiOGZlZjQyLnNldENvbnRlbnQoaHRtbF8zODNmYzFiOTM5Yjc0NmZhOWI3YjViODVmODVjOTkyOSk7CiAgICAgICAgICAgIAoKICAgICAgICAgICAgbWFya2VyXzQyMzdmNTYxM2Y4ZjQ1MjRhNTQ3OGEwMjk1Zjg0YzFiLmJpbmRQb3B1cChwb3B1cF85OGJmOGU2YmE2OTI0Mjc1OTFlNDAxMjg0YjhmZWY0Mik7CgogICAgICAgICAgICAKICAgICAgICAKICAgIAoKICAgICAgICAgICAgdmFyIG1hcmtlcl9jOGQ1ZDk3ZjEyMjk0ZGJjOTZhODMzZTMxYTBmZTkyNSA9IEwubWFya2VyKAogICAgICAgICAgICAgICAgWzYuNDM2MDk5MiwzLjUzNTU4NTVdLAogICAgICAgICAgICAgICAgewogICAgICAgICAgICAgICAgICAgIGljb246IG5ldyBMLkljb24uRGVmYXVsdCgpCiAgICAgICAgICAgICAgICAgICAgfQogICAgICAgICAgICAgICAgKQogICAgICAgICAgICAgICAgLmFkZFRvKG1hcF80YzJhMTQ1ZDUwMmU0NmRiOGNmNWYyNTlhN2UzZmU4OSk7CiAgICAgICAgICAgIAogICAgCiAgICAgICAgICAgIHZhciBwb3B1cF9mMDRkYTA1NmQ2MmU0Njg2YTM0MWZhYTE2Yzk3ODk3NCA9IEwucG9wdXAoe21heFdpZHRoOiAnMzAwJ30pOwoKICAgICAgICAgICAgCiAgICAgICAgICAgICAgICB2YXIgaHRtbF9hMWNlZDhkYjEyMTk0MjNjYjI0NzgyODY1ZGJkMzZlMCA9ICQoJzxkaXYgaWQ9Imh0bWxfYTFjZWQ4ZGIxMjE5NDIzY2IyNDc4Mjg2NWRiZDM2ZTAiIHN0eWxlPSJ3aWR0aDogMTAwLjAlOyBoZWlnaHQ6IDEwMC4wJTsiPkxla2tpIENvbnNlcnZhdGlvbiBjZW50ZXIsIExhZ29zPC9kaXY+JylbMF07CiAgICAgICAgICAgICAgICBwb3B1cF9mMDRkYTA1NmQ2MmU0Njg2YTM0MWZhYTE2Yzk3ODk3NC5zZXRDb250ZW50KGh0bWxfYTFjZWQ4ZGIxMjE5NDIzY2IyNDc4Mjg2NWRiZDM2ZTApOwogICAgICAgICAgICAKCiAgICAgICAgICAgIG1hcmtlcl9jOGQ1ZDk3ZjEyMjk0ZGJjOTZhODMzZTMxYTBmZTkyNS5iaW5kUG9wdXAocG9wdXBfZjA0ZGEwNTZkNjJlNDY4NmEzNDFmYWExNmM5Nzg5NzQpOwoKICAgICAgICAgICAgCiAgICAgICAgCiAgICAKCiAgICAgICAgICAgIHZhciBtYXJrZXJfZTNlZDQwMTFmNmZiNGJlZDk3MzY1MWFlYTNhMDA4N2EgPSBMLm1hcmtlcigKICAgICAgICAgICAgICAgIFs2LjQ0ODg3MDgsMy40MDEwNjcyXSwKICAgICAgICAgICAgICAgIHsKICAgICAgICAgICAgICAgICAgICBpY29uOiBuZXcgTC5JY29uLkRlZmF1bHQoKQogICAgICAgICAgICAgICAgICAgIH0KICAgICAgICAgICAgICAgICkKICAgICAgICAgICAgICAgIC5hZGRUbyhtYXBfNGMyYTE0NWQ1MDJlNDZkYjhjZjVmMjU5YTdlM2ZlODkpOwogICAgICAgICAgICAKICAgIAogICAgICAgICAgICB2YXIgcG9wdXBfMDIzNTdjMTkzYjI1NDI1NmJkZjg5M2VmNWE1NWYxYTIgPSBMLnBvcHVwKHttYXhXaWR0aDogJzMwMCd9KTsKCiAgICAgICAgICAgIAogICAgICAgICAgICAgICAgdmFyIGh0bWxfYmEwNzhiMTgzYzJlNDJjYTk1ZDBhZmY3MjZiYjQ2NmYgPSAkKCc8ZGl2IGlkPSJodG1sX2JhMDc4YjE4M2MyZTQyY2E5NWQwYWZmNzI2YmI0NjZmIiBzdHlsZT0id2lkdGg6IDEwMC4wJTsgaGVpZ2h0OiAxMDAuMCU7Ij5UYWZhd2EgQmFsZXdhIFNxdWFyZSwgTGFnb3M8L2Rpdj4nKVswXTsKICAgICAgICAgICAgICAgIHBvcHVwXzAyMzU3YzE5M2IyNTQyNTZiZGY4OTNlZjVhNTVmMWEyLnNldENvbnRlbnQoaHRtbF9iYTA3OGIxODNjMmU0MmNhOTVkMGFmZjcyNmJiNDY2Zik7CiAgICAgICAgICAgIAoKICAgICAgICAgICAgbWFya2VyX2UzZWQ0MDExZjZmYjRiZWQ5NzM2NTFhZWEzYTAwODdhLmJpbmRQb3B1cChwb3B1cF8wMjM1N2MxOTNiMjU0MjU2YmRmODkzZWY1YTU1ZjFhMik7CgogICAgICAgICAgICAKICAgICAgICAKICAgIAoKICAgICAgICAgICAgdmFyIG1hcmtlcl8yMjZhMjY3YWZkOTc0ZjYwOWZlNDZlMDZjNmU0MDBlZiA9IEwubWFya2VyKAogICAgICAgICAgICAgICAgWzYuNjAyOTAwMjAwMDAwMDAxLDMuMzQ4NTU1OV0sCiAgICAgICAgICAgICAgICB7CiAgICAgICAgICAgICAgICAgICAgaWNvbjogbmV3IEwuSWNvbi5EZWZhdWx0KCkKICAgICAgICAgICAgICAgICAgICB9CiAgICAgICAgICAgICAgICApCiAgICAgICAgICAgICAgICAuYWRkVG8obWFwXzRjMmExNDVkNTAyZTQ2ZGI4Y2Y1ZjI1OWE3ZTNmZTg5KTsKICAgICAgICAgICAgCiAgICAKICAgICAgICAgICAgdmFyIHBvcHVwXzc3NjRhYjUyOTAxZTQxYmQ4MjBkOTBlZjhmYTViY2U2ID0gTC5wb3B1cCh7bWF4V2lkdGg6ICczMDAnfSk7CgogICAgICAgICAgICAKICAgICAgICAgICAgICAgIHZhciBodG1sXzZjYWZhMDAyMGQxMDRmZjBiZTZkMDExMzM4NDkxNjAyID0gJCgnPGRpdiBpZD0iaHRtbF82Y2FmYTAwMjBkMTA0ZmYwYmU2ZDAxMTMzODQ5MTYwMiIgc3R5bGU9IndpZHRoOiAxMDAuMCU7IGhlaWdodDogMTAwLjAlOyI+S2FsYWt1dGEgUmVwdWJsaWMgTXVzZXVtLCBMYWdvczwvZGl2PicpWzBdOwogICAgICAgICAgICAgICAgcG9wdXBfNzc2NGFiNTI5MDFlNDFiZDgyMGQ5MGVmOGZhNWJjZTYuc2V0Q29udGVudChodG1sXzZjYWZhMDAyMGQxMDRmZjBiZTZkMDExMzM4NDkxNjAyKTsKICAgICAgICAgICAgCgogICAgICAgICAgICBtYXJrZXJfMjI2YTI2N2FmZDk3NGY2MDlmZTQ2ZTA2YzZlNDAwZWYuYmluZFBvcHVwKHBvcHVwXzc3NjRhYjUyOTAxZTQxYmQ4MjBkOTBlZjhmYTViY2U2KTsKCiAgICAgICAgICAgIAogICAgICAgIAo8L3NjcmlwdD4=\" style=\"position:absolute;width:100%;height:100%;left:0;top:0;border:none !important;\" allowfullscreen webkitallowfullscreen mozallowfullscreen></iframe></div></div>"
      ],
      "text/plain": [
       "<folium.folium.Map at 0xd6d9198>"
      ]
     },
     "execution_count": 122,
     "metadata": {},
     "output_type": "execute_result"
    }
   ],
   "source": [
    "# remove unwanted rows (rows without coordinates)\n",
    "df = df[df['Google-Latitude'] != 'None']\n",
    "# df\n",
    "\n",
    "# convert Places, Latitude and Longitude dataframe columns to list\n",
    "places_list = list(df['Places'])\n",
    "long_list = list(df[\"Google-Longitude\"])\n",
    "lat_list = list(df[\"Google-Latitude\"])\n",
    "\n",
    "# create folium map object\n",
    "lagos_map = folium.Map(location=[6.532,3.434], zoom_start=10) # location=[Lat, Long]\n",
    "\n",
    "\n",
    "# Conference venue\n",
    "lagos_map.add_child(folium.CircleMarker(location=[6.625292, 3.363003], popup='Lagos Chamber of Commerce and Industry (LCCI)', radius=20, color='green', fill_color='green', fill_opacity=.2))\n",
    "\n",
    "# Hotel address\n",
    "lagos_map.add_child(folium.CircleMarker(location=[6.608479, 3.350344], popup='Presken Hotel (Awolowo way)', radius=20, color='red', fill_color='red', fill_opacity=.2))\n",
    "\n",
    "# loop through the lists and create markers on the map object\n",
    "for long, lat, name in zip(long_list, lat_list, places_list):\n",
    "    lagos_map.add_child(folium.Marker(location=[lat, long], popup=name))\n",
    "#     lagos_map.add_child(folium.CircleMarker(location=[lat, long], popup=name, radius=5, color='green', fill_color='green', fill_opacity=.2))\n",
    "\n",
    "# ================\n",
    "# Add a GeoJSON Polygon layer for LGA to see what LGA our Tourist places are located \n",
    "# Use \"https://mygeodata.cloud/converter\" or any GIS tool to covert your data\n",
    "\n",
    "# geo_json_file = open('data\\\\Lagos_LGA.geojson', 'r')\n",
    "# lagos_map.add_child(folium.GeoJson(data=geo_json_file, style_function=lambda x: {'fillColor':'red'}, name=\"LGA\").add_to(lagos_map))\n",
    "# ================\n",
    "\n",
    "lagos_map\n",
    "\n",
    "# you can save the map to html\n",
    "# lagos_map.save(\"Lagos_Tourist_Attraction_Map.html\")"
   ]
  },
  {
   "cell_type": "code",
   "execution_count": null,
   "metadata": {
    "collapsed": true
   },
   "outputs": [],
   "source": []
  },
  {
   "cell_type": "markdown",
   "metadata": {},
   "source": [
    "## 3) Working with Vector and Raster"
   ]
  },
  {
   "cell_type": "markdown",
   "metadata": {},
   "source": [
    "Some common Vector and Raster file formats used in GIS and RS are \"shapefiles\"/\"GeoJSON\" and \"TIFF\"/\"GeoTIFF\" files respectively. <a href=\"http://gisgeography.com/gis-formats/\" >Read more...</a>\n",
    "<br><br>\n",
    "These libraries: <b>Shapely, Fiona and PyShp</b> are used for working Vector data while libraries such as: <b>GDAL, OpenCV, Scikit-Image, Georasters, GIPPy and Rasterio</b> are used for working Raster data\n"
   ]
  },
  {
   "cell_type": "markdown",
   "metadata": {},
   "source": [
    "### Vector data\n",
    "Lets read in the Lagos shapefile provided in the data folder."
   ]
  },
  {
   "cell_type": "code",
   "execution_count": 68,
   "metadata": {
    "collapsed": false,
    "scrolled": true
   },
   "outputs": [
    {
     "data": {
      "text/plain": [
       "[['Agege', 461123.0],\n",
       " ['Ajeromi/Ifelodun', 745634.0],\n",
       " ['Alimosho', 1277714.0],\n",
       " ['Amuwo Odofin', 318576.0],\n",
       " ['Apapa', 217661.0],\n",
       " ['Badagary', 241437.0],\n",
       " ['Epe', 181715.0],\n",
       " ['Eti-Osa', 287958.0],\n",
       " ['Ibeju/Lekki', 117542.0],\n",
       " ['Ifako/Ijaye', 428812.0],\n",
       " ['Ikeja', 313333.0],\n",
       " ['Ikorodu', 535811.0],\n",
       " ['Kosofe', 665998.0],\n",
       " ['Lagos Island', 209665.0],\n",
       " ['Mainland', 317980.0],\n",
       " ['Mushin', 633543.0],\n",
       " ['Ojo', 598332.0],\n",
       " ['Oshodi/Isolo', 621789.0],\n",
       " ['Shomolu', 402992.0],\n",
       " ['Surulere', 504408.0]]"
      ]
     },
     "execution_count": 68,
     "metadata": {},
     "output_type": "execute_result"
    }
   ],
   "source": [
    "# A shapefile is made up of atleast .shp, .dbf and .shx\n",
    "\n",
    "# Open shapefile\n",
    "Lagos_LGA_shp = open(\"Data\\\\shapefile\\\\Lagos_LGA.shp\", 'rb') # geometry data\n",
    "Lagos_LGA_dbf = open(\"Data\\\\shapefile\\\\Lagos_LGA.dbf\", 'rb') # property data\n",
    "\n",
    "# Load shapefile into reader\n",
    "Lagos_lga = shapefile.Reader(shp=Lagos_LGA_shp, dbf=Lagos_LGA_dbf)\n",
    "records = Lagos_lga.shapeRecords()\n",
    "\n",
    "# Checking the number of records in the shapefile (they should be 20 since there are 20 LGAs in Lagos state)\n",
    "len(records)\n",
    "\n",
    "# Checking the type of shapefile (Point, Line or Polygon)?\n",
    "Lagos_lga.shapes()[0].shapeType # 5 for Polygon - https://github.com/GeospatialPython/pyshp\n",
    "Lagos_lga.shapeType == shapefile.POLYGON # True\n",
    "\n",
    "# Check attribute fields names\n",
    "Lagos_lga.fields\n",
    "\n",
    "# Check bounding box coordinates\n",
    "Lagos_lga.bbox\n",
    "\n",
    "# Check attribute records\n",
    "Lagos_lga.records()\n",
    "\n",
    "# You can do more reading and writting of ESRI Shapefiles in pure Python - https://github.com/GeospatialPython/pyshp"
   ]
  },
  {
   "cell_type": "markdown",
   "metadata": {},
   "source": [
    "### Raster Data\n",
    "\n",
    "At its peak, this is the point where you will play around with Remote Sensing (Satellite Image Processing) tools.\n",
    "\n",
    "Image processing applies to both satellite images and other kinds of images. Many of the techniques used in satellite images processing are the same used in other software such as Adobe Illustrator or Corel Photo Paint and in the field of computer vision in general.\n",
    "\n",
    "Some areas of application include:\n",
    "\n",
    "* Forestry and other land management\n",
    "* Mineral and oil exploration\n",
    "* Pollution monitoring\n",
    "* Urban land use change analysis\n",
    "* Archaeology:  detection of ancient sites, land use and trade routes\n",
    "* Flood, fire and other disaster monitoring\n",
    "* Climatological and oceanographic analysis, such as sea-ice tracking, ocean currents, and ozone monitoring"
   ]
  },
  {
   "cell_type": "markdown",
   "metadata": {},
   "source": [
    "#### How to get Remote Sensing Data\n",
    "\n",
    "Remote sensing means observing something from a distance. Satellites in space observe the Earth from a distance and help scientists study large tracts of land and how that land changes over time.\n",
    "\n",
    "Many Government organazations have satellite that orbits the earth over time. A notable one is the \"Landsat Program\" which has Over 40 Years of Image Acquisition (It all began with Landsat-1 in 1972. <a href='https://www.nasa.gov/'>NASA</a> and <a href='https://www.usgs.gov/'>USGS</a> are working on Landsat 9 for an expected launch in 2023)."
   ]
  },
  {
   "cell_type": "markdown",
   "metadata": {},
   "source": [
    "#### Download Landsat data from USGS Earth Explorer\n",
    "\n",
    "<img src='https://3.bp.blogspot.com/-rChlcPcyhW0/WblJ8LVl9GI/AAAAAAAAB08/xEoMDBEghUAwsBD_EBjkXzzAJkmq8u3sgCLcBGAs/s1600/USGS_Uni_Lagos.PNG' />\n",
    "\n",
    "<b>GDAL, OpenCV, Scikit-Image, Georasters, GIPPy and Rasterio</b> are some python modules used for working Raster data"
   ]
  },
  {
   "cell_type": "code",
   "execution_count": null,
   "metadata": {
    "collapsed": true
   },
   "outputs": [],
   "source": []
  },
  {
   "cell_type": "code",
   "execution_count": 103,
   "metadata": {
    "collapsed": false
   },
   "outputs": [
    {
     "data": {
      "text/plain": [
       "<_io.BufferedReader name='Data\\\\L1C_T31NEH_A007841_20161222T100906.tif'>"
      ]
     },
     "execution_count": 103,
     "metadata": {},
     "output_type": "execute_result"
    }
   ],
   "source": [
    "img = open(\"Data\\\\L1C_T31NEH_A007841_20161222T100906.tif\", 'rb')\n",
    "img"
   ]
  },
  {
   "cell_type": "code",
   "execution_count": null,
   "metadata": {
    "collapsed": true
   },
   "outputs": [],
   "source": []
  },
  {
   "cell_type": "markdown",
   "metadata": {
    "collapsed": true
   },
   "source": [
    "## That's all folks!\n",
    "# Thank you"
   ]
  }
 ],
 "metadata": {
  "anaconda-cloud": {},
  "kernelspec": {
   "display_name": "Python [Root]",
   "language": "python",
   "name": "Python [Root]"
  },
  "language_info": {
   "codemirror_mode": {
    "name": "ipython",
    "version": 3
   },
   "file_extension": ".py",
   "mimetype": "text/x-python",
   "name": "python",
   "nbconvert_exporter": "python",
   "pygments_lexer": "ipython3",
   "version": "3.5.1"
  }
 },
 "nbformat": 4,
 "nbformat_minor": 0
}
